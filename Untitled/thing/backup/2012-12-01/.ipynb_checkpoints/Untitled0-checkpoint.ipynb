{
 "metadata": {
  "name": "",
  "signature": "sha256:486708d9be708564ff29e8401aac90e5c9b1e247c1620920ad306c0adcd1d85b"
 },
 "nbformat": 3,
 "nbformat_minor": 0,
 "worksheets": []
}